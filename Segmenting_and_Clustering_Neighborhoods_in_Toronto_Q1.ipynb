{
  "nbformat": 4,
  "nbformat_minor": 0,
  "metadata": {
    "colab": {
      "name": "Segmenting and Clustering Neighborhoods in Toronto-Q1.ipynb",
      "provenance": [],
      "collapsed_sections": [],
      "authorship_tag": "ABX9TyOv7VbVTduXl4qKy9gKVO46",
      "include_colab_link": true
    },
    "kernelspec": {
      "name": "python3",
      "display_name": "Python 3"
    },
    "language_info": {
      "name": "python"
    }
  },
  "cells": [
    {
      "cell_type": "markdown",
      "metadata": {
        "id": "view-in-github",
        "colab_type": "text"
      },
      "source": [
        "<a href=\"https://colab.research.google.com/github/JoyMot/Coursera_Capstone/blob/main/Segmenting_and_Clustering_Neighborhoods_in_Toronto_Q1.ipynb\" target=\"_parent\"><img src=\"https://colab.research.google.com/assets/colab-badge.svg\" alt=\"Open In Colab\"/></a>"
      ]
    },
    {
      "cell_type": "code",
      "metadata": {
        "id": "xb1dar0csNJN"
      },
      "source": [
        "import pandas as pd\n",
        "import requests\n",
        "from bs4 import BeautifulSoup"
      ],
      "execution_count": 2,
      "outputs": []
    },
    {
      "cell_type": "code",
      "metadata": {
        "id": "OsGtwfi7xcV_"
      },
      "source": [
        "#Extract data from Wikipedia page\n",
        "url='https://en.wikipedia.org/wiki/List_of_postal_codes_of_Canada:_M'\n",
        "r=requests.get(url)\n",
        "soup=BeautifulSoup(r.content,'html5lib')"
      ],
      "execution_count": 3,
      "outputs": []
    },
    {
      "cell_type": "code",
      "metadata": {
        "colab": {
          "base_uri": "https://localhost:8080/",
          "height": 49
        },
        "id": "pJXAdRDBtKVy",
        "outputId": "01281071-9c18-483c-a337-6953bac52145"
      },
      "source": [
        "#Define dataframe columns\n",
        "column_names = ['Postalcode','Borough','Neighborhood']\n",
        "toronto = pd.DataFrame(columns = column_names)\n",
        "toronto\n",
        "\n"
      ],
      "execution_count": 6,
      "outputs": [
        {
          "output_type": "execute_result",
          "data": {
            "text/html": [
              "<div>\n",
              "<style scoped>\n",
              "    .dataframe tbody tr th:only-of-type {\n",
              "        vertical-align: middle;\n",
              "    }\n",
              "\n",
              "    .dataframe tbody tr th {\n",
              "        vertical-align: top;\n",
              "    }\n",
              "\n",
              "    .dataframe thead th {\n",
              "        text-align: right;\n",
              "    }\n",
              "</style>\n",
              "<table border=\"1\" class=\"dataframe\">\n",
              "  <thead>\n",
              "    <tr style=\"text-align: right;\">\n",
              "      <th></th>\n",
              "      <th>Postalcode</th>\n",
              "      <th>Borough</th>\n",
              "      <th>Neighborhood</th>\n",
              "    </tr>\n",
              "  </thead>\n",
              "  <tbody>\n",
              "  </tbody>\n",
              "</table>\n",
              "</div>"
            ],
            "text/plain": [
              "Empty DataFrame\n",
              "Columns: [Postalcode, Borough, Neighborhood]\n",
              "Index: []"
            ]
          },
          "metadata": {
            "tags": []
          },
          "execution_count": 6
        }
      ]
    },
    {
      "cell_type": "code",
      "metadata": {
        "colab": {
          "base_uri": "https://localhost:8080/",
          "height": 416
        },
        "id": "KqCv9LyoL45-",
        "outputId": "f1838098-226f-4d69-aa12-0f4be6c5d5f4"
      },
      "source": [
        "table_contents=[]\n",
        "table=soup.find('table')\n",
        "for row in table.findAll('td'):\n",
        "    cell = {}\n",
        "    if row.span.text=='Not assigned':\n",
        "        pass\n",
        "    else:\n",
        "        cell['PostalCode'] = row.p.text[:3]\n",
        "        cell['Borough'] = (row.span.text).split('(')[0]\n",
        "        cell['Neighborhood'] = (((((row.span.text).split('(')[1]).strip(')')).replace(' /',',')).replace(')',' ')).strip(' ')\n",
        "        table_contents.append(cell)\n",
        "\n",
        "# print(table_contents)\n",
        "df=pd.DataFrame(table_contents)\n",
        "df\n"
      ],
      "execution_count": 11,
      "outputs": [
        {
          "output_type": "execute_result",
          "data": {
            "text/html": [
              "<div>\n",
              "<style scoped>\n",
              "    .dataframe tbody tr th:only-of-type {\n",
              "        vertical-align: middle;\n",
              "    }\n",
              "\n",
              "    .dataframe tbody tr th {\n",
              "        vertical-align: top;\n",
              "    }\n",
              "\n",
              "    .dataframe thead th {\n",
              "        text-align: right;\n",
              "    }\n",
              "</style>\n",
              "<table border=\"1\" class=\"dataframe\">\n",
              "  <thead>\n",
              "    <tr style=\"text-align: right;\">\n",
              "      <th></th>\n",
              "      <th>PostalCode</th>\n",
              "      <th>Borough</th>\n",
              "      <th>Neighborhood</th>\n",
              "    </tr>\n",
              "  </thead>\n",
              "  <tbody>\n",
              "    <tr>\n",
              "      <th>0</th>\n",
              "      <td>M3A</td>\n",
              "      <td>North York</td>\n",
              "      <td>Parkwoods</td>\n",
              "    </tr>\n",
              "    <tr>\n",
              "      <th>1</th>\n",
              "      <td>M4A</td>\n",
              "      <td>North York</td>\n",
              "      <td>Victoria Village</td>\n",
              "    </tr>\n",
              "    <tr>\n",
              "      <th>2</th>\n",
              "      <td>M5A</td>\n",
              "      <td>Downtown Toronto</td>\n",
              "      <td>Regent Park, Harbourfront</td>\n",
              "    </tr>\n",
              "    <tr>\n",
              "      <th>3</th>\n",
              "      <td>M6A</td>\n",
              "      <td>North York</td>\n",
              "      <td>Lawrence Manor, Lawrence Heights</td>\n",
              "    </tr>\n",
              "    <tr>\n",
              "      <th>4</th>\n",
              "      <td>M7A</td>\n",
              "      <td>Queen's Park</td>\n",
              "      <td>Ontario Provincial Government</td>\n",
              "    </tr>\n",
              "    <tr>\n",
              "      <th>...</th>\n",
              "      <td>...</td>\n",
              "      <td>...</td>\n",
              "      <td>...</td>\n",
              "    </tr>\n",
              "    <tr>\n",
              "      <th>98</th>\n",
              "      <td>M8X</td>\n",
              "      <td>Etobicoke</td>\n",
              "      <td>The Kingsway, Montgomery Road, Old Mill North</td>\n",
              "    </tr>\n",
              "    <tr>\n",
              "      <th>99</th>\n",
              "      <td>M4Y</td>\n",
              "      <td>Downtown Toronto</td>\n",
              "      <td>Church and Wellesley</td>\n",
              "    </tr>\n",
              "    <tr>\n",
              "      <th>100</th>\n",
              "      <td>M7Y</td>\n",
              "      <td>East TorontoBusiness reply mail Processing Cen...</td>\n",
              "      <td>Enclave of M4L</td>\n",
              "    </tr>\n",
              "    <tr>\n",
              "      <th>101</th>\n",
              "      <td>M8Y</td>\n",
              "      <td>Etobicoke</td>\n",
              "      <td>Old Mill South, King's Mill Park, Sunnylea, Hu...</td>\n",
              "    </tr>\n",
              "    <tr>\n",
              "      <th>102</th>\n",
              "      <td>M8Z</td>\n",
              "      <td>Etobicoke</td>\n",
              "      <td>Mimico NW, The Queensway West, South of Bloor,...</td>\n",
              "    </tr>\n",
              "  </tbody>\n",
              "</table>\n",
              "<p>103 rows × 3 columns</p>\n",
              "</div>"
            ],
            "text/plain": [
              "    PostalCode  ...                                       Neighborhood\n",
              "0          M3A  ...                                          Parkwoods\n",
              "1          M4A  ...                                   Victoria Village\n",
              "2          M5A  ...                          Regent Park, Harbourfront\n",
              "3          M6A  ...                   Lawrence Manor, Lawrence Heights\n",
              "4          M7A  ...                      Ontario Provincial Government\n",
              "..         ...  ...                                                ...\n",
              "98         M8X  ...      The Kingsway, Montgomery Road, Old Mill North\n",
              "99         M4Y  ...                               Church and Wellesley\n",
              "100        M7Y  ...                                     Enclave of M4L\n",
              "101        M8Y  ...  Old Mill South, King's Mill Park, Sunnylea, Hu...\n",
              "102        M8Z  ...  Mimico NW, The Queensway West, South of Bloor,...\n",
              "\n",
              "[103 rows x 3 columns]"
            ]
          },
          "metadata": {
            "tags": []
          },
          "execution_count": 11
        }
      ]
    },
    {
      "cell_type": "code",
      "metadata": {
        "colab": {
          "base_uri": "https://localhost:8080/"
        },
        "id": "MvpB7wOcXlAW",
        "outputId": "1f92a0ec-3c93-491b-b085-4e835cd8bf80"
      },
      "source": [
        "df.shape"
      ],
      "execution_count": 12,
      "outputs": [
        {
          "output_type": "execute_result",
          "data": {
            "text/plain": [
              "(103, 3)"
            ]
          },
          "metadata": {
            "tags": []
          },
          "execution_count": 12
        }
      ]
    },
    {
      "cell_type": "code",
      "metadata": {
        "id": "PBGV3TZEdVwh"
      },
      "source": [
        ""
      ],
      "execution_count": null,
      "outputs": []
    }
  ]
}