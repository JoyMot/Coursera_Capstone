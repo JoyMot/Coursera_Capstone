{
  "nbformat": 4,
  "nbformat_minor": 0,
  "metadata": {
    "colab": {
      "name": "Capstone Project Notebook.ipynb",
      "provenance": [],
      "authorship_tag": "ABX9TyO32k5LyxfHszK4JJWwvb69"
    },
    "kernelspec": {
      "name": "python3",
      "display_name": "Python 3"
    },
    "language_info": {
      "name": "python"
    }
  },
  "cells": [
    {
      "cell_type": "markdown",
      "metadata": {
        "id": "tdbM-4AL3hIU"
      },
      "source": [
        "## My Capstone Project \n"
      ]
    },
    {
      "cell_type": "markdown",
      "metadata": {
        "id": "-Dmf9-QI3fxp"
      },
      "source": [
        "*This notebook will be mainly used for the capstone project.*"
      ]
    },
    {
      "cell_type": "code",
      "metadata": {
        "id": "3ZjLH-Hh3bRP"
      },
      "source": [
        "import pandas as pd\n",
        "import numpy as np"
      ],
      "execution_count": 2,
      "outputs": []
    },
    {
      "cell_type": "code",
      "metadata": {
        "colab": {
          "base_uri": "https://localhost:8080/"
        },
        "id": "IKpss1ak3vH0",
        "outputId": "ea241df8-b7fa-450e-dbc7-8a12f9f2810a"
      },
      "source": [
        "print('Hello Capstone Project Course!')"
      ],
      "execution_count": 3,
      "outputs": [
        {
          "output_type": "stream",
          "text": [
            "Hello Capstone Project Course!\n"
          ],
          "name": "stdout"
        }
      ]
    },
    {
      "cell_type": "code",
      "metadata": {
        "id": "WhuOep8C3xbW"
      },
      "source": [
        ""
      ],
      "execution_count": null,
      "outputs": []
    }
  ]
}